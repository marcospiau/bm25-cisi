{
 "cells": [
  {
   "attachments": {},
   "cell_type": "markdown",
   "metadata": {},
   "source": [
    "# O que tem aqui\n",
    "\n",
    "Notebook de entrega, iremos usar ChatGPT para formatar código e escrever explicações. Vamos fazer ele traduzir para ingles."
   ]
  },
  {
   "cell_type": "markdown",
   "metadata": {},
   "source": [
    "# Imports"
   ]
  },
  {
   "cell_type": "code",
   "execution_count": 237,
   "metadata": {},
   "outputs": [],
   "source": [
    "import functools\n",
    "import heapq\n",
    "import itertools\n",
    "import math\n",
    "import os\n",
    "import re\n",
    "import subprocess\n",
    "from collections import Counter, defaultdict\n",
    "from dataclasses import dataclass\n",
    "from pathlib import Path\n",
    "from typing import (Any, Callable, Dict, Iterable, List, Optional, Set, Tuple,\n",
    "                    Union)\n",
    "\n",
    "import more_itertools\n",
    "import toolz\n",
    "from tqdm.auto import tqdm\n",
    "\n",
    "import matplotlib.pyplot as plt\n",
    "# use retina resolution for matplotlib\n",
    "%config InlineBackend.figure_format = 'retina'"
   ]
  },
  {
   "attachments": {},
   "cell_type": "markdown",
   "metadata": {},
   "source": [
    "# Data preprocessing"
   ]
  },
  {
   "attachments": {},
   "cell_type": "markdown",
   "metadata": {},
   "source": [
    "## Download dos dados\n",
    "\n",
    "Para fazer download dos dados, vá até a pasta raiz e digite:\n",
    "```bash\n",
    "make get_raw_data\n",
    "\n",
    "```\n",
    "Para gerar esse Makefile, forneci a seguinte query ao chat GPT:\n",
    "```\n",
    "write a makefile to do the following:\n",
    "- download file from http://ir.dcs.gla.ac.uk/resources/test_collections/cisi/cisi.tar.gz\n",
    "- unzip it to the folder data/raw\n",
    "- it should be on step \"get_raw_data\"\n",
    "- operation should not be repeated if files already exist\n",
    "- write help for the steps\n",
    "```\n"
   ]
  },
  {
   "attachments": {},
   "cell_type": "markdown",
   "metadata": {},
   "source": [
    "# Conversão dos dados para um formato mais fácil de trabalhar"
   ]
  },
  {
   "cell_type": "code",
   "execution_count": 16,
   "metadata": {},
   "outputs": [
    {
     "name": "stdout",
     "output_type": "stream",
     "text": [
      "total 6200\n",
      "-rw-r--r--  1 marcospiau  staff   757K Feb 22 19:27 cisi.tar.gz\n",
      "-rw-r--r--  1 marcospiau  staff    79K Feb 28  1994 CISI.REL\n",
      "-rw-r--r--  1 marcospiau  staff    67K Feb 28  1994 CISI.QRY\n",
      "-rw-r--r--  1 marcospiau  staff   4.5K Feb 28  1994 CISI.BLN\n",
      "-rw-r--r--  1 marcospiau  staff   2.1M Feb 28  1994 CISI.ALL\n"
     ]
    }
   ],
   "source": [
    "RAW_DATA_BASEDIR = Path('../data/raw')\n",
    "!ls -lht {RAW_DATA_BASEDIR}\n",
    "\n",
    "raw_files_path = {\n",
    "    'query': RAW_DATA_BASEDIR / 'CISI.QRY',\n",
    "    'all': RAW_DATA_BASEDIR / 'CISI.ALL',\n",
    "    'rel': RAW_DATA_BASEDIR / 'CISI.REL',\n",
    "}\n"
   ]
  },
  {
   "attachments": {},
   "cell_type": "markdown",
   "metadata": {},
   "source": [
    "Arquivos QRY e ALL são mais complicados e precisam de processamento. Tentei deixar processamento semelhante pra conseguir fazer os dois casos com uma mesma funcao.\n",
    "\n",
    "Usei bastante o chatgpt, principalmente para escrever docstrings e typehints. Uma coisa curiosa é que constantemente ele removia a dataclass e utilizava classes padrão, de forma que precisei constamente instruir ele a a manter as dataclasses.\n",
    "\n",
    "A biblioteca [toolz](https://toolz.readthedocs.io/en/latest/) foi utilizada para deixar o código modular e funcional."
   ]
  },
  {
   "cell_type": "code",
   "execution_count": 17,
   "metadata": {},
   "outputs": [],
   "source": [
    "# (.I) ID\n",
    "# (.T) Title\n",
    "# (.W) Abstract\n",
    "# (.B) Publication date of the article\n",
    "# (.A) Author list\n",
    "# (.N) Information when entry was added\n",
    "# (.X) List of cross-references to other documents\n",
    "\n",
    "renames_docs_all = {\n",
    "    '.I': 'id',\n",
    "    '.T': 'title',\n",
    "    '.W': 'abstract',\n",
    "    '.B': 'publication_date',\n",
    "    '.A': 'author_list',\n",
    "    '.N': 'added_date',\n",
    "    '.X': 'cross_references'\n",
    "}\n",
    "\n",
    "process_doc_all = toolz.compose_left(\n",
    "    # for each tag, get renamed tag, and join texts for tag\n",
    "    functools.partial(more_itertools.map_reduce,\n",
    "                      keyfunc=lambda x: renames_docs_all[x.tag],\n",
    "                      valuefunc=lambda x: x.text,\n",
    "                      reducefunc=lambda x: ' '.join(x)),\n",
    "    # keeps only desired keys\n",
    "    toolz.curried.keyfilter(lambda x: x in {'id', 'title', 'abstract'}),\n",
    "    # convert id to int\n",
    "    toolz.curried.update_in(keys=['id'], func=int)\n",
    ")\n",
    "\n",
    "# (.I) ID\n",
    "# (.W) Query\n",
    "# (.A) Author list\n",
    "# (.N) Authors name and some keywords on what the query searches for\n",
    "\n",
    "renames_docs_queries = {\n",
    "    '.I': 'id',\n",
    "    '.W': 'query',\n",
    "    '.T': 'title',\n",
    "    '.A': 'author_list',\n",
    "    # '.N': 'other_query_infos',\n",
    "    '.B': 'publication_date',\n",
    "    # '.X': 'cross_references'\n",
    "}\n",
    "\n",
    "process_doc_qry = toolz.compose_left(\n",
    "    functools.partial(more_itertools.map_reduce,\n",
    "                      keyfunc=lambda x: renames_docs_queries[x.tag],\n",
    "                      valuefunc=lambda x: x.text,\n",
    "                      reducefunc=lambda x: ' '.join(x)),\n",
    "    toolz.curried.keyfilter(lambda x: x in {'id', 'query'}),\n",
    "    toolz.curried.update_in(keys=['id'], func=int)\n",
    ")"
   ]
  },
  {
   "attachments": {},
   "cell_type": "markdown",
   "metadata": {},
   "source": [
    "Explicação do código acima em português:\n",
    "```\n",
    "Este código é usado para renomear e processar informações em documentos e consultas de um conjunto de dados. Ele define dois dicionários de renomeação, renames_docs_all e renames_docs_queries, que mapeiam as tags de um documento ou consulta para nomes mais descritivos. Por exemplo, a tag .I é mapeada para id, a tag .T é mapeada para title e assim por diante.\n",
    "\n",
    "O código usa a biblioteca toolz para compor funções e processar os documentos e consultas. A função more_itertools.map_reduce é usada para mapear as tags para os nomes renomeados e juntar os textos de cada tag em uma única string. Em seguida, a função toolz.curried.keyfilter é usada para manter apenas as chaves desejadas nos dicionários resultantes, e a função toolz.curried.update_in é usada para converter a tag id em um número inteiro.\n",
    "\n",
    "O primeiro bloco de código é usado para processar os documentos, e o segundo bloco é usado para processar as consultas. O bloco de processamento de documentos mantém apenas as chaves id, title e abstract, enquanto o bloco de processamento de consultas mantém apenas as chaves id e query. Em ambos os casos, a tag id é convertida em um número inteiro usando a função int().\n",
    "```\n",
    "\n",
    "Explicação em inglês:\n",
    "```\n",
    "This code is used to rename and process information in documents and queries from a dataset. It defines two renaming dictionaries, renames_docs_all and renames_docs_queries, that map the tags of a document or query to more descriptive names. For example, the tag .I is mapped to id, the tag .T is mapped to title, and so on.\n",
    "\n",
    "The code uses the toolz library to compose functions and process the documents and queries. The more_itertools.map_reduce function is used to map the tags to the renamed names and join the texts of each tag into a single string. Then, the toolz.curried.keyfilter function is used to keep only the desired keys in the resulting dictionaries, and the toolz.curried.update_in function is used to convert the id tag to an integer.\n",
    "\n",
    "The first block of code is used to process the documents and keeps only the id, title, and abstract keys, while the second block of code is used to process the queries and keeps only the id and query keys. In both cases, the id tag is converted to an integer using the int() function.\n",
    "\n",
    "```"
   ]
  },
  {
   "cell_type": "code",
   "execution_count": 18,
   "metadata": {},
   "outputs": [],
   "source": [
    "\"\"\"\n",
    "This module defines functions to parse CISI all or query files, which contain bibliographic information for documents. The parsed information is returned in a dictionary format.\n",
    "\n",
    "The parse_cisi_all_or_qry function takes three arguments: path which is the path to the file to parse, process_doc_fn which is a function that takes a list of IdTagText objects or an iterable of IdTagText objects and returns a dictionary, and return_dict which is a boolean indicating whether to return a dictionary or a list of dictionaries.\n",
    "\n",
    "The function returns a dictionary if return_dict is True, where the keys are document IDs and the values are the processed documents. Otherwise, it returns a list of processed documents.\n",
    "\n",
    "If the process_doc_fn function returns a dictionary, it must contain an 'id' key with a string value representing the document ID.\n",
    "\n",
    "The function raises an AssertionError if the document IDs are not unique.\n",
    "\n",
    "The IdTagText class represents a single tag and its corresponding text, with an additional id attribute.\n",
    "\n",
    "The process_cisi_all and process_cisi_qry functions are partial functions of parse_cisi_all_or_qry that set process_doc_fn to process_doc_all and process_doc_qry, respectively.\n",
    "\"\"\"\n",
    "@dataclass\n",
    "class IdTagText:\n",
    "    id: str\n",
    "    tag: str\n",
    "    text: str\n",
    "\n",
    "\n",
    "def parse_cisi_all_or_qry(\n",
    "    path: str,\n",
    "    process_doc_fn: Callable[[Iterable[IdTagText]], Dict[str, Any]],\n",
    "    return_dict: bool = False,\n",
    ") -> Union[List[Dict[str, Any]], Dict[str, Any]]:\n",
    "    \"\"\"Parses a CISI all or query file.\n",
    "\n",
    "    Args:\n",
    "        path: A string representing the path to the file to parse.\n",
    "        process_doc_fn: A function that receives a list of IdTagText or an iterable of\n",
    "          IdTagText as input, and returns a dictionary.\n",
    "        return_dict: A boolean indicating whether to return a dictionary or a list of\n",
    "          dictionaries.\n",
    "\n",
    "    Returns:\n",
    "        If return_dict is True, a dictionary with the document IDs as keys and\n",
    "        processed documents as values. Otherwise, a list of processed documents.\n",
    "\n",
    "    Raises:\n",
    "        AssertionError: If the document IDs are not unique.\n",
    "    \"\"\"\n",
    "    markers = [r'^\\.I\\s(\\d+)$', '\\.T$', '\\.A$', '\\.B$', '\\.W$', '\\.X$', '\\.N$']\n",
    "    marker_pattern = re.compile('|'.join(markers))\n",
    "\n",
    "    def gen_items() -> Iterable[IdTagText]:\n",
    "        with open(path, 'r') as f:\n",
    "            for line in map(str.strip, f):\n",
    "                match = marker_pattern.match(line)\n",
    "                # match occurs for lines with tags\n",
    "                if match:\n",
    "                    # if match.group(1) is not None, it means that the tag is .I\n",
    "                    # and the group contains the ID\n",
    "                    if match.group(1):\n",
    "                        id_ = match.group(1)\n",
    "                        yield IdTagText(id_, '.I', id_)\n",
    "                    else:\n",
    "                        tag = match.group(0).strip()\n",
    "                else:\n",
    "                    # if match is None, it means that the line is a text\n",
    "                    # just propagate tag and id\n",
    "                    yield IdTagText(id_, tag, line)\n",
    "\n",
    "    out = [\n",
    "        process_doc_fn(group)\n",
    "        for _, group in itertools.groupby(gen_items(), key=lambda x: x.id)\n",
    "    ]\n",
    "    assert len(out) == len({x['id'] for x in out}), 'IDs are not unique'\n",
    "    return {x['id']: x for x in out} if return_dict else out\n",
    "\n",
    "\n",
    "process_cisi_all = functools.partial(parse_cisi_all_or_qry,\n",
    "                                     process_doc_fn=process_doc_all)\n",
    "process_cisi_qry = functools.partial(parse_cisi_all_or_qry,\n",
    "                                     process_doc_fn=process_doc_qry)"
   ]
  },
  {
   "cell_type": "markdown",
   "metadata": {},
   "source": [
    "Alguns exemplos de dados processados:"
   ]
  },
  {
   "cell_type": "code",
   "execution_count": 19,
   "metadata": {},
   "outputs": [
    {
     "data": {
      "text/plain": [
       "{'id': 1,\n",
       " 'title': '18 Editions of the Dewey Decimal Classifications',\n",
       " 'abstract': \"The present study is a history of the DEWEY Decimal Classification.  The first edition of the DDC was published in 1876, the eighteenth edition in 1971, and future editions will continue to appear as needed.  In spite of the DDC's long and healthy life, however, its full story has never been told.  There have been biographies of Dewey that briefly describe his system, but this is the first attempt to provide a detailed history of the work that more than any other has spurred the growth of librarianship in this country and abroad.\"}"
      ]
     },
     "execution_count": 19,
     "metadata": {},
     "output_type": "execute_result"
    }
   ],
   "source": [
    "corpus = process_cisi_all(raw_files_path['all'])\n",
    "corpus[0]"
   ]
  },
  {
   "cell_type": "code",
   "execution_count": 20,
   "metadata": {},
   "outputs": [
    {
     "data": {
      "text/plain": [
       "(112,\n",
       " {'id': 1,\n",
       "  'query': 'What problems and concerns are there in making up descriptive titles? What difficulties are involved in automatically retrieving articles from approximate titles? What is the usual relevance of the content of articles to their titles?'})"
      ]
     },
     "execution_count": 20,
     "metadata": {},
     "output_type": "execute_result"
    }
   ],
   "source": [
    "queries = process_cisi_qry(raw_files_path['query'])\n",
    "len(queries), queries[0]"
   ]
  },
  {
   "attachments": {},
   "cell_type": "markdown",
   "metadata": {},
   "source": [
    "O arquivo qrels é mais simples e pode ser lido de forma mais simples. O resultado é um dicionário com a query como chave e uma lista de documentos relevantes para aquela query."
   ]
  },
  {
   "cell_type": "code",
   "execution_count": 27,
   "metadata": {},
   "outputs": [
    {
     "name": "stdout",
     "output_type": "stream",
     "text": [
      "Examplo de 5 qrels:\n",
      "[(1, {1281, 650, 1162, 524, 269, 1164, 783, 894, 150, 28, 541, 35, 291, 38, 680, 42, 43, 1195, 429, 813, 1196, 52, 820, 189, 192, 65, 193, 195, 320, 576, 582, 711, 76, 589, 465, 466, 722, 86, 215, 726, 603, 482, 483, 868, 869, 510}), (2, {669, 29, 670, 674, 429, 690, 692, 309, 695, 700, 319, 704, 68, 197, 324, 709, 720, 213, 214, 731, 733, 738, 740, 1136, 499, 636}), (3, {640, 131, 1027, 133, 901, 136, 138, 140, 909, 911, 1169, 532, 660, 664, 537, 1179, 412, 540, 1053, 1181, 803, 1190, 1191, 553, 554, 555, 1326, 60, 445, 454, 585, 461, 590, 463, 85, 469, 599, 346, 359, 363, 114, 372, 123, 126}), (4, {321, 420, 329, 332, 980, 310, 601, 315}), (5, {642, 648, 137, 1035, 525, 400, 528, 32, 692, 56, 187, 188, 191, 65, 451, 453, 1356, 339, 471, 1246, 241, 114, 370, 124})]\n"
     ]
    }
   ],
   "source": [
    "def load_qrels(path: str) -> Dict[int, Set[int]]:\n",
    "    \"\"\"\n",
    "    Load relevance judgments from a file with qrels format.\n",
    "\n",
    "    Args:\n",
    "        path (str): Path to the qrels file.\n",
    "\n",
    "    Returns:\n",
    "        A dictionary where keys are query IDs (int) and values are sets of relevant\n",
    "        document IDs (int).\n",
    "    \"\"\"\n",
    "    out = defaultdict(set)\n",
    "    with open(path, 'r') as f:\n",
    "        for line in map(str.strip, f):\n",
    "            qid, docid, _, _ = line.split()\n",
    "            out[int(qid)].add(int(docid))\n",
    "    out.default_factory = None\n",
    "\n",
    "    return out\n",
    "\n",
    "qrels = load_qrels(raw_files_path['rel'])\n",
    "print('Examplo de 5 qrels:', list(itertools.islice(qrels.items(), 5)), sep='\\n')"
   ]
  },
  {
   "attachments": {},
   "cell_type": "markdown",
   "metadata": {},
   "source": [
    "Abaixo nós filtramos queries que constam no arquivo de qrels, pois não conseguimos avaliar queries que não constam no arquivo de qrels. O número de queries vai de 112 para 76."
   ]
  },
  {
   "cell_type": "code",
   "execution_count": 28,
   "metadata": {},
   "outputs": [
    {
     "data": {
      "text/plain": [
       "(76,\n",
       " {'id': 1,\n",
       "  'query': 'What problems and concerns are there in making up descriptive titles? What difficulties are involved in automatically retrieving articles from approximate titles? What is the usual relevance of the content of articles to their titles?'})"
      ]
     },
     "execution_count": 28,
     "metadata": {},
     "output_type": "execute_result"
    }
   ],
   "source": [
    "# Filtrando queries que aparecem no qrels:\n",
    "queries = [x for x in queries if x['id'] in qrels.keys()]\n",
    "len(queries), queries[0]"
   ]
  },
  {
   "attachments": {},
   "cell_type": "markdown",
   "metadata": {},
   "source": [
    "Abaixo, vemos que todos os qrels possuem relevância igual a zero. Por isso, vamos interpretar que caso um documento esteja relacionado a uma query, ele é relevante para essa query."
   ]
  },
  {
   "cell_type": "code",
   "execution_count": 29,
   "metadata": {},
   "outputs": [
    {
     "data": {
      "text/html": [
       "<div>\n",
       "<style scoped>\n",
       "    .dataframe tbody tr th:only-of-type {\n",
       "        vertical-align: middle;\n",
       "    }\n",
       "\n",
       "    .dataframe tbody tr th {\n",
       "        vertical-align: top;\n",
       "    }\n",
       "\n",
       "    .dataframe thead th {\n",
       "        text-align: right;\n",
       "    }\n",
       "</style>\n",
       "<table border=\"1\" class=\"dataframe\">\n",
       "  <thead>\n",
       "    <tr style=\"text-align: right;\">\n",
       "      <th></th>\n",
       "      <th>qid</th>\n",
       "      <th>docid</th>\n",
       "      <th>nao</th>\n",
       "      <th>sei</th>\n",
       "    </tr>\n",
       "  </thead>\n",
       "  <tbody>\n",
       "    <tr>\n",
       "      <th>count</th>\n",
       "      <td>3114</td>\n",
       "      <td>3114</td>\n",
       "      <td>3114</td>\n",
       "      <td>3114</td>\n",
       "    </tr>\n",
       "    <tr>\n",
       "      <th>unique</th>\n",
       "      <td>76</td>\n",
       "      <td>1162</td>\n",
       "      <td>1</td>\n",
       "      <td>1</td>\n",
       "    </tr>\n",
       "    <tr>\n",
       "      <th>top</th>\n",
       "      <td>44</td>\n",
       "      <td>375</td>\n",
       "      <td>0</td>\n",
       "      <td>0.0</td>\n",
       "    </tr>\n",
       "    <tr>\n",
       "      <th>freq</th>\n",
       "      <td>155</td>\n",
       "      <td>15</td>\n",
       "      <td>3114</td>\n",
       "      <td>3114</td>\n",
       "    </tr>\n",
       "  </tbody>\n",
       "</table>\n",
       "</div>"
      ],
      "text/plain": [
       "         qid docid   nao   sei\n",
       "count   3114  3114  3114  3114\n",
       "unique    76  1162     1     1\n",
       "top       44   375     0   0.0\n",
       "freq     155    15  3114  3114"
      ]
     },
     "metadata": {},
     "output_type": "display_data"
    }
   ],
   "source": [
    "import pandas as pd\n",
    "df = pd.read_csv(raw_files_path['rel'], delim_whitespace=True, header=None, names=['qid', 'docid', 'nao', 'sei']).astype(str)\n",
    "display(df.describe())\n",
    "del df"
   ]
  },
  {
   "attachments": {},
   "cell_type": "markdown",
   "metadata": {},
   "source": [
    "# Implementação do BM25\n",
    "\n",
    "Aqui o ChatGPT foi usado de forma iterativa até conseguir uma versão que fosse clara e que funcionasse. Tentei começar fazendo algo complicado logo de cara (ex: tentando vetorizar código com numpy), mas no final obtive resultados ruins e voltei para uma abordagem mais simples.\n",
    "\n",
    "O chatGPT ajudou bastante na verificação de erros e na escrita de docstrings e typehints. Valores default de k1 e b foram escolhidos pelo ChatGPT.\n",
    "\n",
    "Encontrei algumas implementações de BM25 em python (ex: http://ethen8181.github.io/machine-learning/search/bm25_intro.html), mas optei por ir fazendo aos poucos com ajuda do chatGPT para ir aprendendo. Espeficialmente, quebrei o cálculo de do IDF e do inverted index em funções separadas para facilitar o aprendizado.\n",
    "\n",
    "Também optei por usar estruturas de dados da biblioteca padrão do python, como dicionários e listas, ao invés de bibliotecas como numpy e pandas. Isso foi feito para facilitar o aprendizado e a compreensão do código."
   ]
  },
  {
   "cell_type": "code",
   "execution_count": 40,
   "metadata": {},
   "outputs": [],
   "source": [
    "def tokenize(text: str) -> List[str]:\n",
    "    \"\"\"\n",
    "    Tokenize the input text by removing all non-word and non-space characters and\n",
    "    converting all characters to lowercase.\n",
    "\n",
    "    Args:\n",
    "        text (str): The input text to be tokenized.\n",
    "\n",
    "    Returns:\n",
    "        List[str]: A list of tokens obtained from the cleaned text.\n",
    "\n",
    "    Example:\n",
    "        >>> text = \"The quick brown fox jumps over the lazy dog.\"\n",
    "        >>> tokenize(text)\n",
    "        ['the', 'quick', 'brown', 'fox', 'jumps', 'over', 'the', 'lazy', 'dog']\n",
    "    \"\"\"\n",
    "    cleaned_text = re.sub(r'[^\\w\\s]', '', text).lower()\n",
    "    return cleaned_text.split()"
   ]
  },
  {
   "cell_type": "code",
   "execution_count": 44,
   "metadata": {},
   "outputs": [
    {
     "name": "stdout",
     "output_type": "stream",
     "text": [
      "Exemplo de 5 tokens do inverted index:\n",
      "[('the', {1, 2}), ('present', {1}), ('study', {1}), ('is', {1, 2}), ('a', {1, 2})]\n"
     ]
    }
   ],
   "source": [
    "def build_inverted_index(ids_and_tokens: List[Tuple[int, List[str]]]) -> dict:\n",
    "    \"\"\"Build an inverted index from the given document IDs and tokens.\n",
    "\n",
    "    Args:\n",
    "        ids_and_tokens: A list of tuples where the first element is an integer\n",
    "            representing the document ID and the second element is a list of\n",
    "            strings representing the tokens in the document.\n",
    "\n",
    "    Returns:\n",
    "        A dictionary representing the inverted index, where the keys are tokens\n",
    "        found in the documents, and the values are sets of document IDs that\n",
    "        contain the token.\n",
    "\n",
    "    Example:\n",
    "        >>> ids_and_tokens = [(1, ['foo', 'bar']), (2, ['baz', 'qux', 'foo']),\n",
    "                             (3, ['qux', 'quux'])]\n",
    "        >>> build_inverted_index(ids_and_tokens)\n",
    "        {'foo': {1, 2}, 'bar': {1}, 'baz': {2}, 'qux': {2, 3}, 'quux': {3}}\n",
    "\n",
    "    Note:\n",
    "        - The inverted index is a common data structure used in information\n",
    "          retrieval to quickly find documents that contain a given query term.\n",
    "        - This implementation uses a defaultdict to avoid having to explicitly\n",
    "          check if a token is already in the dictionary before adding a document\n",
    "          ID to its set of postings.\n",
    "    \"\"\"\n",
    "    inverted_index = defaultdict(set)\n",
    "    for doc_id, tokens in ids_and_tokens:\n",
    "        for token in tokens:\n",
    "            inverted_index[token].add(doc_id)\n",
    "    inverted_index.default_factory = None\n",
    "    return inverted_index\n",
    "\n",
    "\n",
    "# inverted_index = build_inverted_index((x['id'] for x in corpus[:5]), (tokenize(x['abstract']) for x in corpus[:5]))\n",
    "inverted_index = build_inverted_index(\n",
    "    (x['id'], tokenize(x['abstract'])) for x in corpus[:2])\n",
    "print('Exemplo de 5 tokens do inverted index:',\n",
    "      list(itertools.islice(inverted_index.items(), 5)),\n",
    "      sep='\\n')\n"
   ]
  },
  {
   "cell_type": "code",
   "execution_count": 58,
   "metadata": {},
   "outputs": [
    {
     "name": "stdout",
     "output_type": "stream",
     "text": [
      "Exemplo de 5 tokens do inverted index:\n",
      "[('the', {1, 2}), ('present', {1}), ('study', {1}), ('is', {1, 2}), ('a', {1, 2})]\n"
     ]
    }
   ],
   "source": [
    "def calculate_idf(inverted_index: Dict[str, Set[int]], corpus_size: int,\n",
    "                  eps: float = 1e-8) -> Dict[str, float]:\n",
    "    \"\"\"Calculate inverse document frequency (IDF) for each token in a corpus.\n",
    "\n",
    "    Args:\n",
    "        inverted_index: A dictionary where keys are tokens and values are sets\n",
    "            of document IDs that contain the token.\n",
    "        corpus_size: An integer representing the total number of documents in the corpus.\n",
    "        eps: A small value added to the denominator to avoid division by zero.\n",
    "\n",
    "    Returns:\n",
    "        A dictionary where keys are tokens and values are the corresponding IDF scores.\n",
    "\n",
    "    Notes:\n",
    "        - IDF is a measure of how important a token is to a corpus.\n",
    "        - The formula used here to calculate IDF is:\n",
    "            log((corpus_size - len(doc_ids) + 0.5) / (len(doc_ids) + 0.5) + eps)\n",
    "          where doc_ids is the set of document IDs that contain the token.\n",
    "        - The `eps` parameter is used to avoid division by zero when a token is present in\n",
    "          all documents in the corpus.\n",
    "\n",
    "    Examples:\n",
    "        >>> inverted_index = {'foo': {1, 2}, 'bar': {1}, 'baz': {2, 3}, 'qux': {2, 3}}\n",
    "        >>> corpus_size = 3\n",
    "        >>> calculate_idf(inverted_index, corpus_size)\n",
    "        {'foo': 0.28768207245178085,\n",
    "         'bar': 0.6931471805599453,\n",
    "         'baz': 0.28768207245178085,\n",
    "         'qux': 0.28768207245178085}\n",
    "\n",
    "    \"\"\"\n",
    "    idf = {}\n",
    "    for token, doc_ids in inverted_index.items():\n",
    "        idf[token] = math.log(\n",
    "            (corpus_size - len(doc_ids) + 0.5) / (len(doc_ids) + 0.5) + eps)\n",
    "    return idf\n",
    "\n",
    "print('Exemplo de 5 tokens do inverted index:',\n",
    "      list(itertools.islice(inverted_index.items(), 5)),\n",
    "        sep='\\n')"
   ]
  },
  {
   "attachments": {},
   "cell_type": "markdown",
   "metadata": {},
   "source": [
    "Repare que o exemplo gerado pelo ChatGPT na docstring está incorreto, tentei forçar ele a escrever um exemplo correto, mas não consegui. O correto é:\n"
   ]
  },
  {
   "cell_type": "code",
   "execution_count": 61,
   "metadata": {},
   "outputs": [
    {
     "data": {
      "text/plain": [
       "{'foo': -0.5108256070993241,\n",
       " 'bar': 0.5108256297659907,\n",
       " 'baz': -0.5108256070993241,\n",
       " 'qux': -0.5108256070993241}"
      ]
     },
     "execution_count": 61,
     "metadata": {},
     "output_type": "execute_result"
    }
   ],
   "source": [
    "calculate_idf({'foo': {1, 2}, 'bar': {1}, 'baz': {2, 3}, 'qux': {2, 3}}, 3)"
   ]
  },
  {
   "cell_type": "code",
   "execution_count": 126,
   "metadata": {},
   "outputs": [],
   "source": [
    "# import numpy as np\n",
    "# from tqdm.auto import tqdm\n",
    "# import math\n",
    "# from collections import Counter\n",
    "# import heapq\n",
    "\n",
    "# Gerado pelo chatgpt com o prompt \n",
    "# use single quotes, respect char length of 79\n",
    "# ENGLISH_STOPWORDS_CHATGPT = {\n",
    "ENGLISH_STOPWORDS_CHATGPT = {\n",
    "'a', 'about', 'above', 'after', 'again', 'against', 'ain', 'all', 'am', 'an',\n",
    "'and', 'any', 'are', 'aren', \"aren't\", 'as', 'at', 'be', 'because', 'been',\n",
    "'before', 'being', 'below', 'between', 'both', 'but', 'by', 'can', 'couldn',\n",
    "\"couldn't\", 'd', 'did', 'didn', \"didn't\", 'do', 'does', 'doesn', \"doesn't\",\n",
    "'doing', 'don', \"don't\", 'down', 'during', 'each', 'few', 'for', 'from',\n",
    "'further', 'had', 'hadn', \"hadn't\", 'has', 'hasn', \"hasn't\", 'have', 'haven',\n",
    "\"haven't\", 'having', 'he', 'her', 'here', 'hers', 'herself', 'him', 'himself',\n",
    "'his', 'how', 'i', 'if', 'in', 'into', 'is', 'isn', \"isn't\", 'it', \"it's\",\n",
    "'its', 'itself', 'just', 'll', 'm', 'ma', 'me', 'mightn', \"mightn't\", 'more',\n",
    "'most', 'mustn', \"mustn't\", 'my', 'myself', 'needn', \"needn't\", 'no', 'nor',\n",
    "'not', 'now', 'o', 'of', 'off', 'on', 'once', 'only', 'or', 'other', 'our',\n",
    "'ours', 'ourselves', 'out', 'over', 'own', 're', 's', 'same', 'shan',\n",
    "\"shan't\", 'she', \"she's\", 'should', \"should've\", 'shouldn', \"shouldn't\",\n",
    "'so', 'some', 'such', 't', 'than', 'that', \"that'll\", 'the', 'their',\n",
    "'theirs', 'them', 'themselves', 'then', 'there', 'these', 'they', 'this',\n",
    "'those', 'through', 'to', 'too', 'under', 'until', 'up', 've', 'very', 'was',\n",
    "'wasn', \"wasn't\", 'we', 'were', 'weren', \"weren't\", 'what', 'when', 'where',\n",
    "'which', 'while', 'who', 'whom', 'why', 'will', 'with', 'won', \"won't\",\n",
    "'wouldn', \"wouldn't\", 'y', 'you', \"you'd\", \"you'll\", \"you're\", \"you've\",\n",
    "'your', 'yours', 'yourself', 'yourselves'\n",
    "}\n",
    "\n",
    "\n",
    "class BM25:\n",
    "    def __init__(self, corpus: List[dict], stopwords: Optional[Set[str]] = None, \n",
    "                 k1: float = 1.2, b: float = 0.75) -> None:\n",
    "        \"\"\"\n",
    "        Initializes the BM25 retrieval model.\n",
    "\n",
    "        Args:\n",
    "            corpus: List of dictionaries containing 'id' and 'text' keys, \n",
    "                where 'id' is an integer and 'text' is the tokenized text.\n",
    "            stopwords: Set of stop words to remove from the corpus (default: None).\n",
    "            k1: Positive tuning parameter for adjusting the impact of term frequency \n",
    "                on document relevance score (default: 1.2).\n",
    "            b: Positive tuning parameter for adjusting the impact of document length \n",
    "                on document relevance score (default: 0.75).\n",
    "        \"\"\"\n",
    "        self.k1 = k1\n",
    "        self.b = b\n",
    "\n",
    "        # corpus is tokenized\n",
    "        self.corpus = {doc['id']: tokenize(doc['text']) for doc in corpus}\n",
    "        if stopwords is not None:\n",
    "            self.corpus = {\n",
    "                id_: [token for token in tokens if token not in stopwords]\n",
    "                for id_, tokens in self.corpus.items()\n",
    "            }\n",
    "        self.inverted_index = build_inverted_index(self.corpus.items())\n",
    "        self.idf = calculate_idf(self.inverted_index, len(corpus))\n",
    "        self.doc_lengths = {\n",
    "            id_: len(text)\n",
    "            for id_, text in self.corpus.items()\n",
    "        }\n",
    "        self.avg_doc_length = sum(self.doc_lengths.values()) / len(\n",
    "            self.doc_lengths)\n",
    "\n",
    "    def score(self, query: str, doc_id: int) -> float:\n",
    "        \"\"\"\n",
    "        Calculates the relevance score of a document for a given query.\n",
    "\n",
    "        Args:\n",
    "            query: Query text.\n",
    "            doc_id: ID of the document in the corpus.\n",
    "\n",
    "        Returns:\n",
    "            Relevance score of the document for the query.\n",
    "        \"\"\"\n",
    "        query_tokens = tokenize(query)\n",
    "        doc_token_counts = Counter(self.corpus[doc_id])\n",
    "        score = 0\n",
    "        for token in query_tokens:\n",
    "            if token not in self.idf:\n",
    "                continue\n",
    "            tf = doc_token_counts[token]\n",
    "            score += self.idf[token] * tf * (self.k1 + 1) / (\n",
    "                tf + self.k1 *\n",
    "                (1 - self.b +\n",
    "                 self.b * self.doc_lengths[doc_id] / self.avg_doc_length))\n",
    "        return score\n",
    "\n",
    "    def retrieve(self, query: str, k: int = 10) -> List[dict]:\n",
    "        \"\"\"\n",
    "        Retrieves the top-k documents for a given query.\n",
    "\n",
    "        Args:\n",
    "            query: Query text.\n",
    "            k: Number of documents to retrieve (default: 10).\n",
    "\n",
    "        Returns:\n",
    "            List of document dictionaries with 'id' and 'score' keys.\n",
    "        \"\"\"\n",
    "        ids_and_scores = ((doc_id, self.score(query, doc_id))\n",
    "                          for doc_id in self.corpus.keys())\n",
    "        top_ids_and_scores = heapq.nlargest(k,\n",
    "                                            ids_and_scores,\n",
    "                                            key=lambda x: x[1])\n",
    "        return [{\n",
    "            'id': docid,\n",
    "            'score': score\n",
    "        } for  docid, score in top_ids_and_scores]\n",
    "\n",
    "    def get_results_for_all_queries(self,\n",
    "                                    queries: List[dict],\n",
    "                                    k: int = 10) -> Dict[int, List[dict]]:\n",
    "        \"\"\"\n",
    "        Retrieves the top-k documents for all queries.\n",
    "\n",
    "        Args:\n",
    "            queries: List of query dictionaries with 'id' and 'text' keys.\n",
    "            k: Number of documents to retrieve (default: 10).\n",
    "\n",
    "        Returns:\n",
    "            Dictionary mapping query IDs to a list of document dictionaries with 'id' and 'score' keys.\n",
    "        \"\"\"\n",
    "        return {\n",
    "            query['id']: self.retrieve(query['query'], k)\n",
    "            for query in tqdm(queries, desc='Retrieving')\n",
    "        }"
   ]
  },
  {
   "cell_type": "markdown",
   "metadata": {},
   "source": [
    "Exemplo de uso:"
   ]
  },
  {
   "cell_type": "code",
   "execution_count": 127,
   "metadata": {},
   "outputs": [],
   "source": [
    "corpus_abstracts = [{'id': x['id'], 'text': x['abstract']} for x in corpus]\n",
    "bm25 = BM25(corpus=corpus_abstracts, stopwords=ENGLISH_STOPWORDS_CHATGPT)\n",
    "# bm25 = BM25(corpus=corpus_abstracts, k1=0.9, b = 0.4)"
   ]
  },
  {
   "cell_type": "code",
   "execution_count": 128,
   "metadata": {},
   "outputs": [
    {
     "data": {
      "text/plain": [
       "220.28031216326931"
      ]
     },
     "execution_count": 128,
     "metadata": {},
     "output_type": "execute_result"
    }
   ],
   "source": [
    "bm25.score(query=corpus[0]['abstract'], doc_id=1)"
   ]
  },
  {
   "cell_type": "code",
   "execution_count": 129,
   "metadata": {},
   "outputs": [
    {
     "data": {
      "text/plain": [
       "{'id': 1,\n",
       " 'title': '18 Editions of the Dewey Decimal Classifications',\n",
       " 'abstract': \"The present study is a history of the DEWEY Decimal Classification.  The first edition of the DDC was published in 1876, the eighteenth edition in 1971, and future editions will continue to appear as needed.  In spite of the DDC's long and healthy life, however, its full story has never been told.  There have been biographies of Dewey that briefly describe his system, but this is the first attempt to provide a detailed history of the work that more than any other has spurred the growth of librarianship in this country and abroad.\"}"
      ]
     },
     "execution_count": 129,
     "metadata": {},
     "output_type": "execute_result"
    }
   ],
   "source": [
    "corpus[0]"
   ]
  },
  {
   "cell_type": "code",
   "execution_count": 130,
   "metadata": {},
   "outputs": [
    {
     "data": {
      "text/plain": [
       "[{'id': 1, 'score': 220.28031216326931},\n",
       " {'id': 1152, 'score': 33.76075590140294},\n",
       " {'id': 1393, 'score': 33.20818229839429},\n",
       " {'id': 361, 'score': 33.11173965878908},\n",
       " {'id': 20, 'score': 32.27518710308345},\n",
       " {'id': 260, 'score': 31.677965483165565},\n",
       " {'id': 354, 'score': 31.20879627936035},\n",
       " {'id': 1251, 'score': 27.262693384901},\n",
       " {'id': 749, 'score': 26.557344989257835},\n",
       " {'id': 414, 'score': 25.43222600692836}]"
      ]
     },
     "execution_count": 130,
     "metadata": {},
     "output_type": "execute_result"
    }
   ],
   "source": [
    "bm25.retrieve(query=corpus[0]['abstract'], k=10)"
   ]
  },
  {
   "cell_type": "code",
   "execution_count": 131,
   "metadata": {},
   "outputs": [
    {
     "data": {
      "text/plain": [
       "[{'id': 1, 'score': 220.28031216326931},\n",
       " {'id': 1152, 'score': 33.76075590140294},\n",
       " {'id': 1393, 'score': 33.20818229839429},\n",
       " {'id': 361, 'score': 33.11173965878908},\n",
       " {'id': 20, 'score': 32.27518710308345},\n",
       " {'id': 260, 'score': 31.677965483165565},\n",
       " {'id': 354, 'score': 31.20879627936035},\n",
       " {'id': 1251, 'score': 27.262693384901},\n",
       " {'id': 749, 'score': 26.557344989257835},\n",
       " {'id': 414, 'score': 25.43222600692836}]"
      ]
     },
     "execution_count": 131,
     "metadata": {},
     "output_type": "execute_result"
    }
   ],
   "source": [
    "bm25.retrieve(query=corpus[0]['abstract'], k=10)"
   ]
  },
  {
   "cell_type": "code",
   "execution_count": 132,
   "metadata": {},
   "outputs": [
    {
     "data": {
      "text/plain": [
       "[{'id': 722, 'score': 24.63047099213869},\n",
       " {'id': 1299, 'score': 22.346091800571294},\n",
       " {'id': 759, 'score': 20.285711944769325},\n",
       " {'id': 429, 'score': 18.80736924452053},\n",
       " {'id': 1281, 'score': 18.550362291714524},\n",
       " {'id': 1055, 'score': 18.35866470016923},\n",
       " {'id': 76, 'score': 17.462218478225235},\n",
       " {'id': 65, 'score': 16.233960679739315},\n",
       " {'id': 813, 'score': 16.231763179356083},\n",
       " {'id': 589, 'score': 15.653125128381149}]"
      ]
     },
     "execution_count": 132,
     "metadata": {},
     "output_type": "execute_result"
    }
   ],
   "source": [
    "bm25.retrieve(query=queries[0]['query'], k=10)"
   ]
  },
  {
   "cell_type": "code",
   "execution_count": 135,
   "metadata": {},
   "outputs": [
    {
     "name": "stderr",
     "output_type": "stream",
     "text": [
      "Retrieving: 100%|██████████| 76/76 [00:02<00:00, 26.87it/s]\n"
     ]
    }
   ],
   "source": [
    "results = bm25.get_results_for_all_queries(queries, k=100000)"
   ]
  },
  {
   "attachments": {},
   "cell_type": "markdown",
   "metadata": {},
   "source": [
    "# Avaliacao das métricas\n",
    "\n",
    "Para facilitar avaliacão das métricas e ter um script confiável, vamos utilizar o script trec_eval. Ele está instalado na pasta `bin`, dentro da raiz do projeto."
   ]
  },
  {
   "attachments": {},
   "cell_type": "markdown",
   "metadata": {},
   "source": [
    "## Convertendo dados para format trec_eval"
   ]
  },
  {
   "cell_type": "markdown",
   "metadata": {},
   "source": [
    "## QRELS"
   ]
  },
  {
   "cell_type": "code",
   "execution_count": 138,
   "metadata": {},
   "outputs": [
    {
     "name": "stdout",
     "output_type": "stream",
     "text": [
      "1 0 1281 1\n",
      "1 0 650 1\n",
      "1 0 1162 1\n",
      "1 0 524 1\n",
      "1 0 269 1\n",
      "1 0 1164 1\n",
      "1 0 783 1\n",
      "1 0 894 1\n",
      "1 0 150 1\n",
      "1 0 28 1\n"
     ]
    }
   ],
   "source": [
    "def convert_qrels_to_trec_format(qrels: Dict[int, Set[int]], output_path: str) -> None:\n",
    "    \"\"\"Converts a dictionary of qrels to the TREC format and writes the results\n",
    "    to a file.\n",
    "\n",
    "    Args:\n",
    "        qrels: A dictionary of qrels, where each key is a query ID and each\n",
    "            value is a set of relevant document IDs.\n",
    "        output_path: The path to the output file where the TREC-formatted qrels\n",
    "            will be written.\n",
    "    \"\"\"\n",
    "    with open(output_path, 'w') as f:\n",
    "        for qid, docids in qrels.items():\n",
    "            for docid in docids:\n",
    "                f.write(f'{qid} 0 {docid} 1\\n')\n",
    "\n",
    "!mkdir -pv '../data/processed/cisi'\n",
    "convert_qrels_to_trec_format(qrels, '../data/processed/cisi/qrels.txt')\n",
    "!head '../data/processed/cisi/qrels.txt'"
   ]
  },
  {
   "attachments": {},
   "cell_type": "markdown",
   "metadata": {},
   "source": [
    "## Results"
   ]
  },
  {
   "cell_type": "code",
   "execution_count": 144,
   "metadata": {},
   "outputs": [
    {
     "name": "stdout",
     "output_type": "stream",
     "text": [
      "1 Q0 722 1 24.63047099213869 RUN\n",
      "1 Q0 1299 2 22.346091800571294 RUN\n",
      "1 Q0 759 3 20.285711944769325 RUN\n",
      "1 Q0 429 4 18.80736924452053 RUN\n",
      "1 Q0 1281 5 18.550362291714524 RUN\n",
      "1 Q0 1055 6 18.35866470016923 RUN\n",
      "1 Q0 76 7 17.462218478225235 RUN\n",
      "1 Q0 65 8 16.233960679739315 RUN\n",
      "1 Q0 813 9 16.231763179356083 RUN\n",
      "1 Q0 589 10 15.653125128381149 RUN\n"
     ]
    }
   ],
   "source": [
    "def convert_results_to_trec_eval_format(results: Dict[str, List[str]], output_path: str):\n",
    "    \"\"\"Converts a dictionary of retrieval results to TREC_EVAL format.\n",
    "\n",
    "    Args:\n",
    "        results (Dict[str, List[str]]): A dictionary mapping query IDs to a list of\n",
    "            document dictionaries with 'id' and 'score' keys.\n",
    "        output_path (str): Path to the output file.\n",
    "    \"\"\"\n",
    "\n",
    "    with open(output_path, 'w') as f:\n",
    "        for query_id, docs in results.items():\n",
    "            for rank, doc in enumerate(docs, start=1):\n",
    "                doc_id = doc['id']\n",
    "                score = doc['score']\n",
    "                line = f\"{query_id:} Q0 {doc_id} {rank} {score} RUN\\n\"\n",
    "                f.write(line)\n",
    "\n",
    "convert_results_to_trec_eval_format(results, '../data/processed/cisi/results.txt')\n",
    "!head '../data/processed/cisi/results.txt'"
   ]
  },
  {
   "cell_type": "code",
   "execution_count": 204,
   "metadata": {},
   "outputs": [
    {
     "name": "stdout",
     "output_type": "stream",
     "text": [
      "trec_eval [-h] [-q] [-m measure[.params] [-c] [-n] [-l <num>]\n",
      "   [-D debug_level] [-N <num>] [-M <num>] [-R rel_format] [-T results_format]\n",
      "   rel_info_file  results_file \n",
      " \n",
      "Calculate and print various evaluation measures, evaluating the results  \n",
      "in results_file against the relevance info in rel_info_file. \n",
      " \n",
      "There are a fair number of options, of which only the lower case options are \n",
      "normally ever used.   \n",
      " --help:\n",
      " -h: Print full help message and exit. Full help message will include\n",
      "     descriptions for any measures designated by a '-m' parameter, and\n",
      "     input file format descriptions for any rel_info_format given by '-R'\n",
      "     and any top results_format given by '-T.'\n",
      "     Thus to see all info about preference measures use\n",
      "          trec_eval -h -m all_prefs -R prefs -T trec_results \n",
      " --version:\n",
      " -v: Print version of trec_eval and exit.\n",
      " --query_eval_wanted:\n",
      " -q: In addition to summary evaluation, give evaluation for each query/topic\n",
      " --measure measure_name[.measure_params]:\n",
      " -m measure: Add 'measure' to the lists of measures to calculate and print.\n",
      "    If 'measure' contains a '.', then the name of the measure is everything\n",
      "    preceeding the period, and everything to the right of the period is\n",
      "    assumed to be a list of parameters for the measure, separated by ','. \n",
      "    There can be multiple occurrences of the -m flag.\n",
      "    'measure' can also be a nickname for a set of measures. Current \n",
      "    nicknames include \n",
      "       'official': the main measures often used by TREC\n",
      "       'all_trec': all measures calculated with the standard TREC\n",
      "                   results and rel_info format files.\n",
      "       'set': subset of all_trec that calculates unranked values.\n",
      "       'prefs': Measures not in all_trec that calculate preference measures.\n",
      " --complete_rel_info_wanted:\n",
      " -c: Average over the complete set of queries in the relevance judgements  \n",
      "     instead of the queries in the intersection of relevance judgements \n",
      "     and results.  Missing queries will contribute a value of 0 to all \n",
      "     evaluation measures (which may or may not be reasonable for a  \n",
      "     particular evaluation measure, but is reasonable for standard TREC \n",
      "     measures.) Default is off.\n",
      " --level_for_rel num:\n",
      " -l<num>: Num indicates the minimum relevance judgement value needed for \n",
      "      a document to be called relevant. Used if rel_info_file contains \n",
      "      relevance judged on a multi-relevance scale.  Default is 1. \n",
      " --nosummary:\n",
      " -n: No summary evaluation will be printed\n",
      " --Debug_level num:\n",
      " -D <num>: Debug level.  1 and 2 used for measures, 3 and 4 for merging\n",
      "     rel_info and results, 5 and 6 for input.  Currently, num can be of the\n",
      "     form <num>.<qid> and only qid will be evaluated with debug info printed.\n",
      "     Default is 0.\n",
      " --Number_docs_in_coll num:\n",
      " -N <num>: Number of docs in collection Default is MAX_LONG \n",
      " -Max_retrieved_per_topic num:\n",
      " -M <num>: Max number of docs per topic to use in evaluation (discard rest). \n",
      "      Default is MAX_LONG.\n",
      " --Judged_docs_only:\n",
      " -J: Calculate all values only over the judged (either relevant or  \n",
      "     nonrelevant) documents.  All unjudged documents are removed from the \n",
      "     retrieved set before any calculations (possibly leaving an empty set). \n",
      "     DO NOT USE, unless you really know what you're doing - very easy to get \n",
      "     reasonable looking numbers in a file that you will later forget were \n",
      "     calculated  with the -J flag.  \n",
      " --Rel_info_format format:\n",
      " -R format: The rel_info file is assumed to be in format 'format'.  Current\n",
      "    values for 'format' include 'qrels', 'prefs', 'qrels_prefs'.  Note not\n",
      "    all measures can be calculated with all formats.\n",
      " --Results_format format:\n",
      " -T format: the top results_file is assumed to be in format 'format'. Current\n",
      "    values for 'format' include 'trec_results'. Note not all measures can be\n",
      "    calculated with all formats.\n",
      " --Zscore Zmean_file:\n",
      " -Z Zmean_file: Instead of printing the raw score for each measure, print\n",
      "    a Z score instead. The score printed will be the deviation from the mean\n",
      "    of the raw score, expressed in standard deviations, where the mean and\n",
      "    standard deviation for each measure and query are found in Zmean_file.\n",
      "    If mean is not in Zmeanfile for a measure and query, -1000000 is printed.\n",
      "    Zmean_file format is ascii lines of form \n",
      "       qid  measure_name  mean  std_dev\n",
      " \n",
      " \n",
      "Standard evaluation procedure:\n",
      "For each of the standard TREC measures requested, a ranked list of\n",
      "of relevance judgements is created corresponding to each ranked retrieved doc,\n",
      "A rel judgement is set to -1 if the document was not in the pool (not in \n",
      "rel_info_file) or -2 if the document was in the pool but unjudged (some \n",
      "measures (infAP) allow the pool to be sampled instead of judged fully).  \n",
      "Otherwise it is set to the value in rel_info_file. \n",
      "Most measures, but not all, will treat -1 or -2 the same as 0, \n",
      "namely nonrelevant.  Note that relevance_level is used to \n",
      "determine if the document is relevant during score calculations. \n",
      "Queries for which there is no relevance information are ignored. \n",
      "Warning: queries for which there are relevant docs but no retrieved docs \n",
      "are also ignored by default.  This allows systems to evaluate over subsets  \n",
      "of the relevant docs, but means if a system improperly retrieves no docs,  \n",
      "it will not be detected.  Use the -c flag to avoid this behavior. \n",
      "\n",
      "-----------------------\n",
      "Results_file format: Standard 'trec_results'\n",
      "Lines of results_file are of the form \n",
      "     030  Q0  ZF08-175-870  0   4238   prise1 \n",
      "     qid iter   docno      rank  sim   run_id \n",
      "giving TREC document numbers (a string) retrieved by query qid  \n",
      "(a string) with similarity sim (a float).  The other fields are ignored, \n",
      "with the exception that the run_id field of the last line is kept and \n",
      "output.  In particular, note that the rank field is ignored here; \n",
      "internally ranks are assigned by sorting by the sim field with ties  \n",
      "broken deterministicly (using docno). \n",
      "Sim is assumed to be higher for the docs to be retrieved first. \n",
      "File may contain no NULL characters. \n",
      "Lines may contain fields after the run_id; they are ignored. \n",
      "\n",
      "-----------------------\n",
      "Rel_info_file format: Standard 'qrels'\n",
      "Relevance for each docno to qid is determined from rel_info_file, which \n",
      "consists of text tuples of the form \n",
      "   qid  iter  docno  rel \n",
      "giving TREC document numbers (docno, a string) and their relevance (rel,  \n",
      "a non-negative integer less than 128, or -1 (unjudged)) \n",
      "to query qid (a string).  iter string field is ignored.   \n",
      "Fields are separated by whitespace, string fields can contain no whitespace. \n",
      "File may contain no NULL characters. \n",
      "\n",
      "-----------------------\n",
      "Individual measure documentation for requested measures\n",
      "-- No measures indicated.\n",
      "   Request measure documentation using <-m measure> on command line\n"
     ]
    }
   ],
   "source": [
    "!../bin/trec_eval-9.0.7/trec_eval -h"
   ]
  },
  {
   "cell_type": "code",
   "execution_count": 145,
   "metadata": {},
   "outputs": [
    {
     "name": "stdout",
     "output_type": "stream",
     "text": [
      "P_1                   \tall\t0.5000\n",
      "P_3                   \tall\t0.4079\n",
      "P_5                   \tall\t0.3816\n"
     ]
    }
   ],
   "source": [
    "!../bin/trec_eval-9.0.7/trec_eval ../data/processed/cisi/qrels.txt ../data/processed/cisi/results.txt -M 100 -m P.1,3,5 # -m all_trec"
   ]
  },
  {
   "cell_type": "code",
   "execution_count": 146,
   "metadata": {},
   "outputs": [
    {
     "name": "stdout",
     "output_type": "stream",
     "text": [
      "P_1                   \tall\t0.5000\n",
      "P_3                   \tall\t0.4079\n",
      "P_5                   \tall\t0.3816\n"
     ]
    }
   ],
   "source": [
    "!../bin/trec_eval-9.0.7/trec_eval ../data/processed/cisi/qrels.txt ../data/processed/cisi/results.txt -M 100 -m P.1,3,5 #-m all_trec"
   ]
  },
  {
   "cell_type": "code",
   "execution_count": 205,
   "metadata": {},
   "outputs": [
    {
     "name": "stdout",
     "output_type": "stream",
     "text": [
      "runid                 \tall\tRUN\n",
      "num_q                 \tall\t76\n",
      "num_ret               \tall\t7600\n",
      "num_rel               \tall\t3114\n",
      "num_rel_ret           \tall\t989\n",
      "map                   \tall\t0.1394\n",
      "gm_map                \tall\t0.0842\n",
      "Rprec                 \tall\t0.2087\n",
      "bpref                 \tall\t0.4026\n",
      "recip_rank            \tall\t0.6270\n",
      "iprec_at_recall_0.00  \tall\t0.6670\n",
      "iprec_at_recall_0.10  \tall\t0.4095\n",
      "iprec_at_recall_0.20  \tall\t0.2667\n",
      "iprec_at_recall_0.30  \tall\t0.1806\n",
      "iprec_at_recall_0.40  \tall\t0.1087\n",
      "iprec_at_recall_0.50  \tall\t0.0711\n",
      "iprec_at_recall_0.60  \tall\t0.0460\n",
      "iprec_at_recall_0.70  \tall\t0.0231\n",
      "iprec_at_recall_0.80  \tall\t0.0139\n",
      "iprec_at_recall_0.90  \tall\t0.0041\n",
      "iprec_at_recall_1.00  \tall\t0.0041\n",
      "P_1                   \tall\t0.5000\n",
      "P_3                   \tall\t0.4079\n",
      "P_5                   \tall\t0.3816\n",
      "recall_5              \tall\t0.0729\n",
      "recall_10             \tall\t0.1347\n",
      "recall_15             \tall\t0.1589\n",
      "recall_20             \tall\t0.1878\n",
      "recall_30             \tall\t0.2244\n",
      "recall_100            \tall\t0.4026\n",
      "recall_200            \tall\t0.4026\n",
      "recall_500            \tall\t0.4026\n",
      "recall_1000           \tall\t0.4026\n",
      "infAP                 \tall\t0.1394\n",
      "gm_bpref              \tall\t0.3089\n",
      "Rprec_mult_0.20       \tall\t0.3418\n",
      "Rprec_mult_0.40       \tall\t0.2758\n",
      "Rprec_mult_0.60       \tall\t0.2598\n",
      "Rprec_mult_0.80       \tall\t0.2274\n",
      "Rprec_mult_1.00       \tall\t0.2087\n",
      "Rprec_mult_1.20       \tall\t0.1844\n",
      "Rprec_mult_1.40       \tall\t0.1673\n",
      "Rprec_mult_1.60       \tall\t0.1544\n",
      "Rprec_mult_1.80       \tall\t0.1422\n",
      "Rprec_mult_2.00       \tall\t0.1351\n",
      "utility               \tall\t-73.9737\n",
      "11pt_avg              \tall\t0.1631\n",
      "binG                  \tall\t0.1361\n",
      "G                     \tall\t0.1361\n",
      "ndcg                  \tall\t0.3407\n",
      "ndcg_rel              \tall\t0.3547\n",
      "Rndcg                 \tall\t0.2960\n",
      "ndcg_cut_5            \tall\t0.4029\n",
      "ndcg_cut_10           \tall\t0.3547\n",
      "ndcg_cut_15           \tall\t0.3242\n",
      "ndcg_cut_20           \tall\t0.3146\n",
      "ndcg_cut_30           \tall\t0.3030\n",
      "ndcg_cut_100          \tall\t0.3458\n",
      "ndcg_cut_200          \tall\t0.3407\n",
      "ndcg_cut_500          \tall\t0.3407\n",
      "ndcg_cut_1000         \tall\t0.3407\n",
      "map_cut_5             \tall\t0.0553\n",
      "map_cut_10            \tall\t0.0761\n",
      "map_cut_15            \tall\t0.0865\n",
      "map_cut_20            \tall\t0.0969\n",
      "map_cut_30            \tall\t0.1072\n",
      "map_cut_100           \tall\t0.1394\n",
      "map_cut_200           \tall\t0.1394\n",
      "map_cut_500           \tall\t0.1394\n",
      "map_cut_1000          \tall\t0.1394\n",
      "relative_P_5          \tall\t0.3816\n",
      "relative_P_10         \tall\t0.3383\n",
      "relative_P_15         \tall\t0.3035\n",
      "relative_P_20         \tall\t0.2987\n",
      "relative_P_30         \tall\t0.2937\n",
      "relative_P_100        \tall\t0.4085\n",
      "relative_P_200        \tall\t0.4026\n",
      "relative_P_500        \tall\t0.4026\n",
      "relative_P_1000       \tall\t0.4026\n",
      "success_1             \tall\t0.5000\n",
      "success_5             \tall\t0.8026\n",
      "success_10            \tall\t0.8947\n",
      "set_P                 \tall\t0.1301\n",
      "set_relative_P        \tall\t0.4085\n",
      "set_recall            \tall\t0.4026\n",
      "set_map               \tall\t0.0508\n",
      "set_F                 \tall\t0.1704\n",
      "num_nonrel_judged_ret \tall\t0\n"
     ]
    }
   ],
   "source": [
    "!../bin/trec_eval-9.0.7/trec_eval ../data/processed/cisi/qrels.txt ../data/processed/cisi/results.txt -M 100 -m all_trec -m P.1,3,5"
   ]
  },
  {
   "attachments": {},
   "cell_type": "markdown",
   "metadata": {},
   "source": [
    "# Comparando algumas abordagens\n",
    "\n",
    "Os códigos até foram feitos de forma a detalhar e explicar o máximo possível. Agora, vamos fazer uma análise mais sucinta, focando nos resultados de algumas abordagens:\n",
    "- quais campos utilizar como documentos: `title, abstract` ou `title + abstract`\n",
    "- remover stopwords ou não\n",
    "\n",
    "Os parâmetros do BM25 não vão ser tunados para manter essa análise breve.\n",
    "Essa sessão foi feita com bem menos cuidado, no sentido de não ficar checando tanto usando o ChatGPT e escrevendo docstrings e typehints.\n",
    "Usei o githubcopilot para escrever o código, os comentários nas células foram os prompts usados. Como já estava um pouco cansado e gastei bastante tempo com as etapas anteriores, fui verificando e aceitando as sugestões do githubcopilot. Essa célula, inclusive, foi escrita com auxílio do githubcopilot."
   ]
  },
  {
   "cell_type": "code",
   "execution_count": 154,
   "metadata": {},
   "outputs": [],
   "source": [
    "def get_corpus(base_corpus, fields):\n",
    "    return [{\n",
    "        'id': x['id'],\n",
    "        'text': ' '.join([x[field] for field in fields])\n",
    "    } for x in base_corpus]\n",
    "\n",
    "\n",
    "corpus_to_test = {\n",
    "    'title': get_corpus(corpus, ['title']),\n",
    "    'abstract': get_corpus(corpus, ['abstract']),\n",
    "    'title_abstract': get_corpus(corpus, ['title', 'abstract'])}"
   ]
  },
  {
   "cell_type": "code",
   "execution_count": 161,
   "metadata": {},
   "outputs": [],
   "source": [
    "corpus_and_stopwords_to_test = {\n",
    "    'title_remove_stopwords': (get_corpus(corpus, ['title']), ENGLISH_STOPWORDS_CHATGPT),\n",
    "    'abstract_remove_stopwords': (get_corpus(corpus, ['abstract']), ENGLISH_STOPWORDS_CHATGPT),\n",
    "    'title_abstract_remove_stopwords': (get_corpus(corpus, ['title', 'abstract']), ENGLISH_STOPWORDS_CHATGPT),\n",
    "    'title_keep_stopwords': (get_corpus(corpus, ['title']), None),\n",
    "    'abstract_keep_stopwords': (get_corpus(corpus, ['abstract']), None),\n",
    "    'title_abstract_keep_stopwords': (get_corpus(corpus, ['title', 'abstract']), None)}"
   ]
  },
  {
   "cell_type": "code",
   "execution_count": 162,
   "metadata": {},
   "outputs": [],
   "source": [
    "bm25_to_test = {\n",
    "    k: BM25(corpus=v[0], stopwords=v[1])\n",
    "    for k, v in corpus_and_stopwords_to_test.items()}"
   ]
  },
  {
   "cell_type": "code",
   "execution_count": 163,
   "metadata": {},
   "outputs": [
    {
     "name": "stderr",
     "output_type": "stream",
     "text": [
      "Retrieving: 100%|██████████| 76/76 [00:02<00:00, 37.39it/s] \n",
      "Retrieving: 100%|██████████| 76/76 [00:02<00:00, 28.14it/s]\n",
      "Retrieving: 100%|██████████| 76/76 [00:02<00:00, 27.59it/s]\n",
      "Retrieving: 100%|██████████| 76/76 [00:02<00:00, 26.77it/s]\n",
      "Retrieving: 100%|██████████| 76/76 [00:03<00:00, 19.70it/s]\n",
      "Retrieving: 100%|██████████| 76/76 [00:03<00:00, 19.90it/s]\n"
     ]
    }
   ],
   "source": [
    "# write results file for each corpus and stopwords combination\n",
    "for corpus_name, bm25 in bm25_to_test.items():\n",
    "    # k=100000 to retrieve all documents, not just top-k\n",
    "    # (we'll use trec_eval to compute metrics)\n",
    "    results = bm25.get_results_for_all_queries(queries, k=100000)\n",
    "    convert_results_to_trec_eval_format(results, f'../data/processed/cisi/results_{corpus_name}.txt')"
   ]
  },
  {
   "cell_type": "code",
   "execution_count": 211,
   "metadata": {},
   "outputs": [],
   "source": [
    "import shlex\n",
    "TREC_EVAL_BIN_PATH = '../bin/trec_eval-9.0.7/trec_eval'\n",
    "# Essa função foi escrita usando o github copilot\n",
    "def get_trec_eval_metrics(flags, qrels_path, results_path):\n",
    "    \"\"\"Runs trec_eval and returns the results as a dictionary.\n",
    "\n",
    "    Args:\n",
    "        flags (str): Flags to pass to trec_eval.\n",
    "        qrels_path (str): Path to the qrels file.\n",
    "        results_path (str): Path to the results file.\n",
    "\n",
    "    Returns:\n",
    "        Dict[str, float]: A dictionary mapping metric names to their values.\n",
    "    \"\"\"\n",
    "    output = subprocess.check_output([\n",
    "        TREC_EVAL_BIN_PATH,\n",
    "        qrels_path,\n",
    "        results_path,\n",
    "        *shlex.split(flags)\n",
    "    ]).decode('utf-8')\n",
    "    return {\n",
    "        line.split()[0]: (line.split()[2])\n",
    "        for line in output.splitlines()\n",
    "    }"
   ]
  },
  {
   "cell_type": "code",
   "execution_count": 239,
   "metadata": {},
   "outputs": [
    {
     "name": "stdout",
     "output_type": "stream",
     "text": [
      "All metrics\n"
     ]
    },
    {
     "data": {
      "text/html": [
       "<div>\n",
       "<style scoped>\n",
       "    .dataframe tbody tr th:only-of-type {\n",
       "        vertical-align: middle;\n",
       "    }\n",
       "\n",
       "    .dataframe tbody tr th {\n",
       "        vertical-align: top;\n",
       "    }\n",
       "\n",
       "    .dataframe thead th {\n",
       "        text-align: right;\n",
       "    }\n",
       "</style>\n",
       "<table border=\"1\" class=\"dataframe\">\n",
       "  <thead>\n",
       "    <tr style=\"text-align: right;\">\n",
       "      <th></th>\n",
       "      <th>11pt_avg</th>\n",
       "      <th>G</th>\n",
       "      <th>P_1</th>\n",
       "      <th>P_3</th>\n",
       "      <th>P_5</th>\n",
       "      <th>Rndcg</th>\n",
       "      <th>Rprec</th>\n",
       "      <th>Rprec_mult_0.20</th>\n",
       "      <th>Rprec_mult_0.40</th>\n",
       "      <th>Rprec_mult_0.60</th>\n",
       "      <th>...</th>\n",
       "      <th>runid</th>\n",
       "      <th>set_F</th>\n",
       "      <th>set_P</th>\n",
       "      <th>set_map</th>\n",
       "      <th>set_recall</th>\n",
       "      <th>set_relative_P</th>\n",
       "      <th>success_1</th>\n",
       "      <th>success_10</th>\n",
       "      <th>success_5</th>\n",
       "      <th>utility</th>\n",
       "    </tr>\n",
       "    <tr>\n",
       "      <th>corpus</th>\n",
       "      <th></th>\n",
       "      <th></th>\n",
       "      <th></th>\n",
       "      <th></th>\n",
       "      <th></th>\n",
       "      <th></th>\n",
       "      <th></th>\n",
       "      <th></th>\n",
       "      <th></th>\n",
       "      <th></th>\n",
       "      <th></th>\n",
       "      <th></th>\n",
       "      <th></th>\n",
       "      <th></th>\n",
       "      <th></th>\n",
       "      <th></th>\n",
       "      <th></th>\n",
       "      <th></th>\n",
       "      <th></th>\n",
       "      <th></th>\n",
       "      <th></th>\n",
       "    </tr>\n",
       "  </thead>\n",
       "  <tbody>\n",
       "    <tr>\n",
       "      <th>abstract_keep_stopwords</th>\n",
       "      <td>0.0457</td>\n",
       "      <td>0.0523</td>\n",
       "      <td>0.1053</td>\n",
       "      <td>0.1053</td>\n",
       "      <td>0.1158</td>\n",
       "      <td>0.1157</td>\n",
       "      <td>0.0740</td>\n",
       "      <td>0.0956</td>\n",
       "      <td>0.0873</td>\n",
       "      <td>0.0804</td>\n",
       "      <td>...</td>\n",
       "      <td>RUN</td>\n",
       "      <td>0.1035</td>\n",
       "      <td>0.0813</td>\n",
       "      <td>0.0205</td>\n",
       "      <td>0.2409</td>\n",
       "      <td>0.2455</td>\n",
       "      <td>0.1053</td>\n",
       "      <td>0.4474</td>\n",
       "      <td>0.3158</td>\n",
       "      <td>-83.7368</td>\n",
       "    </tr>\n",
       "    <tr>\n",
       "      <th>abstract_remove_stopwords</th>\n",
       "      <td>0.1631</td>\n",
       "      <td>0.1361</td>\n",
       "      <td>0.5000</td>\n",
       "      <td>0.4079</td>\n",
       "      <td>0.3816</td>\n",
       "      <td>0.2960</td>\n",
       "      <td>0.2087</td>\n",
       "      <td>0.3418</td>\n",
       "      <td>0.2758</td>\n",
       "      <td>0.2598</td>\n",
       "      <td>...</td>\n",
       "      <td>RUN</td>\n",
       "      <td>0.1704</td>\n",
       "      <td>0.1301</td>\n",
       "      <td>0.0508</td>\n",
       "      <td>0.4026</td>\n",
       "      <td>0.4085</td>\n",
       "      <td>0.5000</td>\n",
       "      <td>0.8947</td>\n",
       "      <td>0.8026</td>\n",
       "      <td>-73.9737</td>\n",
       "    </tr>\n",
       "    <tr>\n",
       "      <th>title_abstract_keep_stopwords</th>\n",
       "      <td>0.0511</td>\n",
       "      <td>0.0567</td>\n",
       "      <td>0.1053</td>\n",
       "      <td>0.1184</td>\n",
       "      <td>0.1211</td>\n",
       "      <td>0.1225</td>\n",
       "      <td>0.0798</td>\n",
       "      <td>0.0970</td>\n",
       "      <td>0.0928</td>\n",
       "      <td>0.0893</td>\n",
       "      <td>...</td>\n",
       "      <td>RUN</td>\n",
       "      <td>0.1066</td>\n",
       "      <td>0.0833</td>\n",
       "      <td>0.0220</td>\n",
       "      <td>0.2536</td>\n",
       "      <td>0.2583</td>\n",
       "      <td>0.1053</td>\n",
       "      <td>0.4342</td>\n",
       "      <td>0.3421</td>\n",
       "      <td>-83.3421</td>\n",
       "    </tr>\n",
       "    <tr>\n",
       "      <th>title_abstract_remove_stopwords</th>\n",
       "      <td>0.1867</td>\n",
       "      <td>0.1538</td>\n",
       "      <td>0.5395</td>\n",
       "      <td>0.4430</td>\n",
       "      <td>0.3895</td>\n",
       "      <td>0.3177</td>\n",
       "      <td>0.2248</td>\n",
       "      <td>0.3728</td>\n",
       "      <td>0.2991</td>\n",
       "      <td>0.2721</td>\n",
       "      <td>...</td>\n",
       "      <td>RUN</td>\n",
       "      <td>0.1784</td>\n",
       "      <td>0.1362</td>\n",
       "      <td>0.0565</td>\n",
       "      <td>0.4231</td>\n",
       "      <td>0.4292</td>\n",
       "      <td>0.5395</td>\n",
       "      <td>0.8816</td>\n",
       "      <td>0.8158</td>\n",
       "      <td>-72.7632</td>\n",
       "    </tr>\n",
       "    <tr>\n",
       "      <th>title_keep_stopwords</th>\n",
       "      <td>0.0801</td>\n",
       "      <td>0.0694</td>\n",
       "      <td>0.2500</td>\n",
       "      <td>0.1930</td>\n",
       "      <td>0.1974</td>\n",
       "      <td>0.1649</td>\n",
       "      <td>0.1186</td>\n",
       "      <td>0.1785</td>\n",
       "      <td>0.1547</td>\n",
       "      <td>0.1477</td>\n",
       "      <td>...</td>\n",
       "      <td>RUN</td>\n",
       "      <td>0.1053</td>\n",
       "      <td>0.0828</td>\n",
       "      <td>0.0219</td>\n",
       "      <td>0.2358</td>\n",
       "      <td>0.2402</td>\n",
       "      <td>0.2500</td>\n",
       "      <td>0.6842</td>\n",
       "      <td>0.5921</td>\n",
       "      <td>-83.4474</td>\n",
       "    </tr>\n",
       "    <tr>\n",
       "      <th>title_remove_stopwords</th>\n",
       "      <td>0.1056</td>\n",
       "      <td>0.0889</td>\n",
       "      <td>0.3026</td>\n",
       "      <td>0.2807</td>\n",
       "      <td>0.2711</td>\n",
       "      <td>0.2003</td>\n",
       "      <td>0.1460</td>\n",
       "      <td>0.2447</td>\n",
       "      <td>0.2176</td>\n",
       "      <td>0.2010</td>\n",
       "      <td>...</td>\n",
       "      <td>RUN</td>\n",
       "      <td>0.1163</td>\n",
       "      <td>0.0911</td>\n",
       "      <td>0.0260</td>\n",
       "      <td>0.2484</td>\n",
       "      <td>0.2530</td>\n",
       "      <td>0.3026</td>\n",
       "      <td>0.7632</td>\n",
       "      <td>0.6447</td>\n",
       "      <td>-81.7895</td>\n",
       "    </tr>\n",
       "  </tbody>\n",
       "</table>\n",
       "<p>6 rows × 88 columns</p>\n",
       "</div>"
      ],
      "text/plain": [
       "                                11pt_avg       G     P_1     P_3     P_5  \\\n",
       "corpus                                                                     \n",
       "abstract_keep_stopwords           0.0457  0.0523  0.1053  0.1053  0.1158   \n",
       "abstract_remove_stopwords         0.1631  0.1361  0.5000  0.4079  0.3816   \n",
       "title_abstract_keep_stopwords     0.0511  0.0567  0.1053  0.1184  0.1211   \n",
       "title_abstract_remove_stopwords   0.1867  0.1538  0.5395  0.4430  0.3895   \n",
       "title_keep_stopwords              0.0801  0.0694  0.2500  0.1930  0.1974   \n",
       "title_remove_stopwords            0.1056  0.0889  0.3026  0.2807  0.2711   \n",
       "\n",
       "                                  Rndcg   Rprec Rprec_mult_0.20  \\\n",
       "corpus                                                            \n",
       "abstract_keep_stopwords          0.1157  0.0740          0.0956   \n",
       "abstract_remove_stopwords        0.2960  0.2087          0.3418   \n",
       "title_abstract_keep_stopwords    0.1225  0.0798          0.0970   \n",
       "title_abstract_remove_stopwords  0.3177  0.2248          0.3728   \n",
       "title_keep_stopwords             0.1649  0.1186          0.1785   \n",
       "title_remove_stopwords           0.2003  0.1460          0.2447   \n",
       "\n",
       "                                Rprec_mult_0.40 Rprec_mult_0.60  ... runid  \\\n",
       "corpus                                                           ...         \n",
       "abstract_keep_stopwords                  0.0873          0.0804  ...   RUN   \n",
       "abstract_remove_stopwords                0.2758          0.2598  ...   RUN   \n",
       "title_abstract_keep_stopwords            0.0928          0.0893  ...   RUN   \n",
       "title_abstract_remove_stopwords          0.2991          0.2721  ...   RUN   \n",
       "title_keep_stopwords                     0.1547          0.1477  ...   RUN   \n",
       "title_remove_stopwords                   0.2176          0.2010  ...   RUN   \n",
       "\n",
       "                                  set_F   set_P set_map set_recall  \\\n",
       "corpus                                                               \n",
       "abstract_keep_stopwords          0.1035  0.0813  0.0205     0.2409   \n",
       "abstract_remove_stopwords        0.1704  0.1301  0.0508     0.4026   \n",
       "title_abstract_keep_stopwords    0.1066  0.0833  0.0220     0.2536   \n",
       "title_abstract_remove_stopwords  0.1784  0.1362  0.0565     0.4231   \n",
       "title_keep_stopwords             0.1053  0.0828  0.0219     0.2358   \n",
       "title_remove_stopwords           0.1163  0.0911  0.0260     0.2484   \n",
       "\n",
       "                                set_relative_P success_1 success_10 success_5  \\\n",
       "corpus                                                                          \n",
       "abstract_keep_stopwords                 0.2455    0.1053     0.4474    0.3158   \n",
       "abstract_remove_stopwords               0.4085    0.5000     0.8947    0.8026   \n",
       "title_abstract_keep_stopwords           0.2583    0.1053     0.4342    0.3421   \n",
       "title_abstract_remove_stopwords         0.4292    0.5395     0.8816    0.8158   \n",
       "title_keep_stopwords                    0.2402    0.2500     0.6842    0.5921   \n",
       "title_remove_stopwords                  0.2530    0.3026     0.7632    0.6447   \n",
       "\n",
       "                                  utility  \n",
       "corpus                                     \n",
       "abstract_keep_stopwords          -83.7368  \n",
       "abstract_remove_stopwords        -73.9737  \n",
       "title_abstract_keep_stopwords    -83.3421  \n",
       "title_abstract_remove_stopwords  -72.7632  \n",
       "title_keep_stopwords             -83.4474  \n",
       "title_remove_stopwords           -81.7895  \n",
       "\n",
       "[6 rows x 88 columns]"
      ]
     },
     "metadata": {},
     "output_type": "display_data"
    },
    {
     "name": "stdout",
     "output_type": "stream",
     "text": [
      "P@1, P@3, P@5, NDCG@20\n"
     ]
    },
    {
     "data": {
      "text/html": [
       "<div>\n",
       "<style scoped>\n",
       "    .dataframe tbody tr th:only-of-type {\n",
       "        vertical-align: middle;\n",
       "    }\n",
       "\n",
       "    .dataframe tbody tr th {\n",
       "        vertical-align: top;\n",
       "    }\n",
       "\n",
       "    .dataframe thead th {\n",
       "        text-align: right;\n",
       "    }\n",
       "</style>\n",
       "<table border=\"1\" class=\"dataframe\">\n",
       "  <thead>\n",
       "    <tr style=\"text-align: right;\">\n",
       "      <th></th>\n",
       "      <th>P_1</th>\n",
       "      <th>P_3</th>\n",
       "      <th>P_5</th>\n",
       "      <th>ndcg_cut_20</th>\n",
       "    </tr>\n",
       "    <tr>\n",
       "      <th>corpus</th>\n",
       "      <th></th>\n",
       "      <th></th>\n",
       "      <th></th>\n",
       "      <th></th>\n",
       "    </tr>\n",
       "  </thead>\n",
       "  <tbody>\n",
       "    <tr>\n",
       "      <th>title_abstract_remove_stopwords</th>\n",
       "      <td>0.5395</td>\n",
       "      <td>0.4430</td>\n",
       "      <td>0.3895</td>\n",
       "      <td>0.3354</td>\n",
       "    </tr>\n",
       "    <tr>\n",
       "      <th>abstract_remove_stopwords</th>\n",
       "      <td>0.5000</td>\n",
       "      <td>0.4079</td>\n",
       "      <td>0.3816</td>\n",
       "      <td>0.3146</td>\n",
       "    </tr>\n",
       "    <tr>\n",
       "      <th>title_remove_stopwords</th>\n",
       "      <td>0.3026</td>\n",
       "      <td>0.2807</td>\n",
       "      <td>0.2711</td>\n",
       "      <td>0.2290</td>\n",
       "    </tr>\n",
       "    <tr>\n",
       "      <th>title_keep_stopwords</th>\n",
       "      <td>0.2500</td>\n",
       "      <td>0.1930</td>\n",
       "      <td>0.1974</td>\n",
       "      <td>0.1703</td>\n",
       "    </tr>\n",
       "    <tr>\n",
       "      <th>abstract_keep_stopwords</th>\n",
       "      <td>0.1053</td>\n",
       "      <td>0.1053</td>\n",
       "      <td>0.1158</td>\n",
       "      <td>0.0915</td>\n",
       "    </tr>\n",
       "    <tr>\n",
       "      <th>title_abstract_keep_stopwords</th>\n",
       "      <td>0.1053</td>\n",
       "      <td>0.1184</td>\n",
       "      <td>0.1211</td>\n",
       "      <td>0.0996</td>\n",
       "    </tr>\n",
       "  </tbody>\n",
       "</table>\n",
       "</div>"
      ],
      "text/plain": [
       "                                    P_1     P_3     P_5  ndcg_cut_20\n",
       "corpus                                                              \n",
       "title_abstract_remove_stopwords  0.5395  0.4430  0.3895       0.3354\n",
       "abstract_remove_stopwords        0.5000  0.4079  0.3816       0.3146\n",
       "title_remove_stopwords           0.3026  0.2807  0.2711       0.2290\n",
       "title_keep_stopwords             0.2500  0.1930  0.1974       0.1703\n",
       "abstract_keep_stopwords          0.1053  0.1053  0.1158       0.0915\n",
       "title_abstract_keep_stopwords    0.1053  0.1184  0.1211       0.0996"
      ]
     },
     "metadata": {},
     "output_type": "display_data"
    },
    {
     "data": {
      "image/png": "[encoded data removed]",
      "text/plain": [
       "<Figure size 720x360 with 1 Axes>"
      ]
     },
     "metadata": {
      "image/png": {
       "height": 472,
       "width": 595
      },
      "needs_background": "light"
     },
     "output_type": "display_data"
    }
   ],
   "source": [
    "# compute metrics for all combinations of corpus and stopwords\n",
    "# write results to metrics file\n",
    "with open('../data/processed/cisi/metrics.txt', 'w') as f:\n",
    "    for corpus_name, bm25 in bm25_to_test.items():\n",
    "        results_path = f'../data/processed/cisi/results_{corpus_name}.txt'\n",
    "        metrics = get_trec_eval_metrics('-M 100 -m all_trec -m P.1,3,5', '../data/processed/cisi/qrels.txt', results_path)\n",
    "        for metric, value in metrics.items():\n",
    "            f.write(f'{corpus_name} {metric} {value}\\n')\n",
    "\n",
    "# load into a pandas dataframe and display\n",
    "metrics = pd.read_csv('../data/processed/cisi/metrics.txt', sep=' ', header=None)\n",
    "metrics.columns = ['corpus', 'metric', 'value']\n",
    "# metrics['value'] = metrics['value'].astype(float)\n",
    "metrics = metrics.pivot(index='corpus', columns='metric', values='value')\n",
    "metrics.columns.name = None\n",
    "\n",
    "print('All metrics')\n",
    "display(metrics)\n",
    "\n",
    "# plot P1,3,5 and NDCG@20 for all combinations of corpus and stopwords\n",
    "# remember to convert to float\n",
    "# sort by best P@1\n",
    "metrics = metrics[['P_1', 'P_3', 'P_5', 'ndcg_cut_20']].astype(float)\n",
    "metrics.sort_values('P_1', ascending=False, inplace=True)\n",
    "metrics[['P_1', 'P_3', 'P_5', 'ndcg_cut_20']].plot.bar(figsize=(10, 5))\n",
    "\n",
    "print('P@1, P@3, P@5, NDCG@20')\n",
    "display(metrics[['P_1', 'P_3', 'P_5', 'ndcg_cut_20']])\n"
   ]
  }
 ],
 "metadata": {
  "kernelspec": {
   "display_name": "env_1",
   "language": "python",
   "name": "python3"
  },
  "language_info": {
   "codemirror_mode": {
    "name": "ipython",
    "version": 3
   },
   "file_extension": ".py",
   "mimetype": "text/x-python",
   "name": "python",
   "nbconvert_exporter": "python",
   "pygments_lexer": "ipython3",
   "version": "3.9.7"
  },
  "orig_nbformat": 4,
  "vscode": {
   "interpreter": {
    "hash": "4f9cff93c564aed0795eb3a2079f10dc3221fa71e77d246f2a568ea3248ec283"
   }
  }
 },
 "nbformat": 4,
 "nbformat_minor": 2
}
